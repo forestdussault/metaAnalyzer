{
 "cells": [
  {
   "cell_type": "code",
   "execution_count": 100,
   "metadata": {},
   "outputs": [],
   "source": [
    "import collections\n",
    "import subprocess\n",
    "import pandas as pd\n",
    "import matplotlib.pyplot as plt\n",
    "import numpy as np\n",
    "from matplotlib import cm\n",
    "%matplotlib inline"
   ]
  },
  {
   "cell_type": "code",
   "execution_count": 125,
   "metadata": {},
   "outputs": [],
   "source": [
    "def generate_abundance_table(initial_profile_file, taxonomic_level):\n",
    "    taxonomic_levels = collections.OrderedDict()\n",
    "    taxonomic_levels['kingdom']='k__'\n",
    "    taxonomic_levels['class'] = 'c__'\n",
    "    taxonomic_levels['order'] = 'o__'\n",
    "    taxonomic_levels['family'] = 'f__'\n",
    "    taxonomic_levels['genus'] = 'g__'\n",
    "    taxonomic_levels['species'] = 's__'\n",
    "    taxonomic_levels['strain'] = 't__'\n",
    "\n",
    "    # Ordered dict manipulation to figure out what the next key is... excessively verbose in an attempt at clarity\n",
    "    desired_tax_rank = taxonomic_levels[taxonomic_level]\n",
    "    index_tax_rank = tuple(taxonomic_levels).index(taxonomic_level)\n",
    "    tax_key_list = list(taxonomic_levels.keys())\n",
    "    next_tax_level = tax_key_list[index_tax_rank + 1]\n",
    "    next_tax_rank = taxonomic_levels[next_tax_level]\n",
    "\n",
    "    output_file = initial_profile_file.replace('_profile','_profile_{}'.format(taxonomic_level))\n",
    "\n",
    "    p = subprocess.Popen(\"grep -E '({0})| \"\n",
    "                         \"(^ID)' {2} \"\n",
    "                         \"| grep -v '{1}' \"\n",
    "                         \"| sed 's/^.*{0}//g' > \"\n",
    "                         \"{3}\".format(desired_tax_rank, next_tax_rank, initial_profile_file, output_file),\n",
    "                         shell=True,\n",
    "                         executable='/bin/bash')\n",
    "    p.wait()\n",
    "        \n",
    "def generate_figure(metagenome_id, taxonomic_level):\n",
    "    df = pd.read_csv('/mnt/scratch/Forest/SRA_carrot_project/metaphlan2/{0}/{0}_profile_{1}.txt'.format(metagenome_id, \n",
    "                                                                                                        taxonomic_level),\n",
    "                    delimiter='\\t', names=['genus','proportion'])\n",
    "    \n",
    "    cs=cm.spring(np.linspace(0, 100, len(df)))\n",
    "    \n",
    "    fig = plt.pie(\n",
    "        df['proportion'],\n",
    "        labels=df['genus'],\n",
    "        shadow=False,\n",
    "        #colors=cs,\n",
    "        startangle=90,\n",
    "        autopct='%1.1f%%',\n",
    "        )\n",
    "\n",
    "    # View the plot drop above\n",
    "    plt.axis('equal')\n",
    "\n",
    "    # Save figure\n",
    "    plt.savefig('/mnt/scratch/Forest/SRA_carrot_project/metaphlan2/{0}/{0}_{1}_pie.png'.format(metagenome_id, taxonomic_level), \n",
    "                bbox_inches='tight', \n",
    "                dpi=200)\n",
    "    plt.clf()"
   ]
  },
  {
   "cell_type": "code",
   "execution_count": 102,
   "metadata": {},
   "outputs": [],
   "source": [
    "worklist = ['SRR3747715',\n",
    "            'SRR3747760',\n",
    "            'SRR3747811',\n",
    "            'SRR3747713',\n",
    "            'SRR3747750',\n",
    "            'SRR3747761',\n",
    "            'SRR3747812',\n",
    "            'SRR3747714',\n",
    "            'SRR3747751',  \n",
    "            'SRR3747798',  \n",
    "            'SRR3747847']"
   ]
  },
  {
   "cell_type": "code",
   "execution_count": 126,
   "metadata": {},
   "outputs": [
    {
     "data": {
      "text/plain": [
       "<matplotlib.figure.Figure at 0x7fdade979a58>"
      ]
     },
     "metadata": {},
     "output_type": "display_data"
    }
   ],
   "source": [
    "for item in worklist:\n",
    "    generate_abundance_table(('/mnt/scratch/Forest/SRA_carrot_project/metaphlan2/{0}/{0}_profile.txt'.format(item)),'genus')\n",
    "    generate_figure(item, 'genus')"
   ]
  }
 ],
 "metadata": {
  "kernelspec": {
   "display_name": "Python 3",
   "language": "python",
   "name": "python3"
  },
  "language_info": {
   "codemirror_mode": {
    "name": "ipython",
    "version": 3
   },
   "file_extension": ".py",
   "mimetype": "text/x-python",
   "name": "python",
   "nbconvert_exporter": "python",
   "pygments_lexer": "ipython3",
   "version": "3.5.2"
  }
 },
 "nbformat": 4,
 "nbformat_minor": 2
}
